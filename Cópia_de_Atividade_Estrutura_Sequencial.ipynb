{
  "nbformat": 4,
  "nbformat_minor": 0,
  "metadata": {
    "colab": {
      "provenance": []
    },
    "kernelspec": {
      "name": "python3",
      "display_name": "Python 3"
    },
    "language_info": {
      "name": "python"
    }
  },
  "cells": [
    {
      "cell_type": "markdown",
      "source": [
        "1 - Faça um Programa que mostre a mensagem \"Alo mundo\" na tela.\n",
        "\n",
        "\n"
      ],
      "metadata": {
        "id": "WCQQeGtSVZNN"
      }
    },
    {
      "cell_type": "code",
      "source": [
        "print (\"Alô mundo!\")"
      ],
      "metadata": {
        "colab": {
          "base_uri": "https://localhost:8080/"
        },
        "id": "xxS2-QBCdw8v",
        "outputId": "1d61b18b-767e-4771-9bb3-3f18ae91d826"
      },
      "execution_count": null,
      "outputs": [
        {
          "output_type": "stream",
          "name": "stdout",
          "text": [
            "Alô mundo!\n"
          ]
        }
      ]
    },
    {
      "cell_type": "markdown",
      "source": [
        "2 - Faça um Programa que peça um número e então mostre a mensagem."
      ],
      "metadata": {
        "id": "K1i073TMf0eE"
      }
    },
    {
      "cell_type": "code",
      "source": [
        "numero = int (input(\"Insira um número, agradeço: \"))\n",
        "print (numero)"
      ],
      "metadata": {
        "colab": {
          "base_uri": "https://localhost:8080/"
        },
        "id": "ZqLPyKi9gcoz",
        "outputId": "31f765ae-3167-4eaf-9df6-0b9e14bf731f"
      },
      "execution_count": null,
      "outputs": [
        {
          "output_type": "stream",
          "name": "stdout",
          "text": [
            "Insira um número, agradeço: 2938\n",
            "2938\n"
          ]
        }
      ]
    },
    {
      "cell_type": "markdown",
      "source": [
        "3 - Faça um Programa que peça dois números e imprima a soma."
      ],
      "metadata": {
        "id": "-cIjRjqlgme_"
      }
    },
    {
      "cell_type": "code",
      "source": [
        "num1 = int (input(\"Um número, pfvr: \"))\n",
        "num2 = int (input(\"Oto número, pls: \"))\n",
        "\n",
        "soma = num1 + num2\n",
        "\n",
        "print(soma)"
      ],
      "metadata": {
        "colab": {
          "base_uri": "https://localhost:8080/"
        },
        "id": "sQoyYN_Bgss_",
        "outputId": "4512b6ef-0c64-45be-a6e1-90833ae24764"
      },
      "execution_count": null,
      "outputs": [
        {
          "output_type": "stream",
          "name": "stdout",
          "text": [
            "Um número, pfvr: 4\n",
            "Oto número, pls: 3\n",
            "7\n"
          ]
        }
      ]
    },
    {
      "cell_type": "markdown",
      "source": [
        "4 - Faça um Programa que peça as 4 notas bimestrais e mostre a média."
      ],
      "metadata": {
        "id": "Of4qG4wljF6U"
      }
    },
    {
      "cell_type": "code",
      "source": [
        "nota1 = float (input(\"Insira a nota: \" ))\n",
        "nota2 = float (input(\"Insira a nota: \" ))\n",
        "nota3 = float (input(\"Insira a nota: \" ))\n",
        "nota4 = float (input(\"Insira a nota: \" ))\n",
        "\n",
        "media = (nota1 + nota2 + nota3 + nota4)/4\n",
        "\n",
        "print (\"A média é: \" ,media)"
      ],
      "metadata": {
        "colab": {
          "base_uri": "https://localhost:8080/"
        },
        "id": "UF42LQOSi-HP",
        "outputId": "c12c8521-e0ce-4079-ee5d-a256c6c5677e"
      },
      "execution_count": null,
      "outputs": [
        {
          "output_type": "stream",
          "name": "stdout",
          "text": [
            "Insira a nota: 5\n",
            "Insira a nota: 8\n",
            "Insira a nota: 9\n",
            "Insira a nota: 7\n",
            "A média é:  7.25\n"
          ]
        }
      ]
    },
    {
      "cell_type": "markdown",
      "source": [
        "5 - Faça um Programa que converta metros para centímetros."
      ],
      "metadata": {
        "id": "_BAg8ec2kvFN"
      }
    },
    {
      "cell_type": "code",
      "source": [
        "m = float (input(\"Diga uma medida em metros para que ela seja convertida para centímetros: \" ))\n",
        "print (\"A medida convertida é igual a:\", m*100)"
      ],
      "metadata": {
        "colab": {
          "base_uri": "https://localhost:8080/"
        },
        "id": "Jy53mBFEk5ES",
        "outputId": "599c2593-7ccc-4945-9578-59e02d3400b9"
      },
      "execution_count": null,
      "outputs": [
        {
          "output_type": "stream",
          "name": "stdout",
          "text": [
            "Diga uma medida em metros para que ela seja convertida para centímetros:100\n",
            "A medida convertida é igual a: 10000.0\n"
          ]
        }
      ]
    },
    {
      "cell_type": "markdown",
      "source": [
        "6 - Faça um Programa que peça o raio de um círculo, calcule e mostre sua área."
      ],
      "metadata": {
        "id": "MuD2b6CUmbih"
      }
    },
    {
      "cell_type": "code",
      "source": [
        "r = float (input(\"Insira o raio de um circulo: \" ))\n",
        "area = (3.14 * (r ** 2))\n",
        "print(area)"
      ],
      "metadata": {
        "colab": {
          "base_uri": "https://localhost:8080/"
        },
        "id": "-NopUYknmh4O",
        "outputId": "f8ced216-afb0-41bc-8479-5fa065465f79"
      },
      "execution_count": null,
      "outputs": [
        {
          "output_type": "stream",
          "name": "stdout",
          "text": [
            "Insira o raio de um circulo: 70\n",
            "15386.0\n"
          ]
        }
      ]
    },
    {
      "cell_type": "markdown",
      "source": [
        "7 - Faça um Programa que calcule a área de um quadrado, em seguida mostre o dobro desta área para o usuário."
      ],
      "metadata": {
        "id": "2JHM7tqfpa4M"
      }
    },
    {
      "cell_type": "code",
      "source": [
        "quadrado = float (input(\"Insira a medida do quadrado: \"))\n",
        "d_area = ((quadrado ** 2)*2)\n",
        "print(d_area)"
      ],
      "metadata": {
        "colab": {
          "base_uri": "https://localhost:8080/"
        },
        "id": "ht4DlVElpc1T",
        "outputId": "f97a6b82-2dbb-446e-fa8e-d49c169f8062"
      },
      "execution_count": null,
      "outputs": [
        {
          "output_type": "stream",
          "name": "stdout",
          "text": [
            "Insira a medida do quadrado: 8\n",
            "128.0\n"
          ]
        }
      ]
    },
    {
      "cell_type": "markdown",
      "source": [
        "8 - Faça um Programa que pergunte quanto você ganha por hora e o número de horas trabalhadas no mês. Calcule e mostre o total do seu salário no referido mês."
      ],
      "metadata": {
        "id": "PY8FnRBHY728"
      }
    },
    {
      "cell_type": "code",
      "source": [
        "hora = float (input(\"Quanto você ganha por hora? \"))\n",
        "horaMes = float (input(\"Quantas horas você trabalha por mês? \"))\n",
        "sMensal = hora * horaMes\n",
        "print (f\"O seu salário mensal é R$ {sMensal:,.2f}\")"
      ],
      "metadata": {
        "colab": {
          "base_uri": "https://localhost:8080/"
        },
        "id": "F7UHInfVZFp4",
        "outputId": "aeea1faf-5c09-484d-8795-752bc7c8b6b9"
      },
      "execution_count": null,
      "outputs": [
        {
          "output_type": "stream",
          "name": "stdout",
          "text": [
            "Quanto você ganha por hora? 20\n",
            "Quantas horas você trabalha por mês? 200\n",
            "O seu salário mensal é R$ 4,000.00\n"
          ]
        }
      ]
    },
    {
      "cell_type": "markdown",
      "source": [
        "9 - Faça um Programa que peça a temperatura em graus Fahrenheit, transforme e mostre a temperatura em graus Celsius. C = 5 * ((F-32) / 9)."
      ],
      "metadata": {
        "id": "Y0K9TpBZcqOp"
      }
    },
    {
      "cell_type": "code",
      "source": [
        "tFahrenheit = int(input(\"Digite uma temperatura em Fahrenheit: \"))\n",
        "tCelsius = 5*((tFahrenheit-32)/9)\n",
        "print (f\"A temperatura em Celsius é: {tCelsius:,.2f}\")"
      ],
      "metadata": {
        "colab": {
          "base_uri": "https://localhost:8080/"
        },
        "id": "9D62qnIbfV7b",
        "outputId": "a79719f8-a92f-47ab-fb78-6e2e729646dc"
      },
      "execution_count": null,
      "outputs": [
        {
          "output_type": "stream",
          "name": "stdout",
          "text": [
            "Digite uma temperatura em Fahrenheit: 40\n",
            "A temperatura em Celsius é: 4.44\n"
          ]
        }
      ]
    },
    {
      "cell_type": "markdown",
      "source": [
        "10 - Faça um Programa que peça a temperatura em graus Celsius, transforme e mostre em graus Fahrenheit."
      ],
      "metadata": {
        "id": "Po2-eFhEiB0L"
      }
    },
    {
      "cell_type": "code",
      "source": [
        "tCelsius2 = int(input(\"Digite uma temperatura em Celsius: \"))\n",
        "tFahrenheit2 = (1.8 * tCelsius2) + 32\n",
        "print (f\"A temperatura em Fahrenheit é: {tFahrenheit2:,.2f}\")"
      ],
      "metadata": {
        "colab": {
          "base_uri": "https://localhost:8080/"
        },
        "id": "KEs6cI3GiPVL",
        "outputId": "570b78d9-b6eb-4616-f124-e826770e85c9"
      },
      "execution_count": null,
      "outputs": [
        {
          "output_type": "stream",
          "name": "stdout",
          "text": [
            "Digite uma temperatura em Celsius: 54\n",
            "A temperatura em Fahrenheit é: 129.20\n"
          ]
        }
      ]
    }
  ]
}